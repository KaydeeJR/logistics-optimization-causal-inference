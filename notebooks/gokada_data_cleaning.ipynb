{
  "nbformat": 4,
  "nbformat_minor": 0,
  "metadata": {
    "colab": {
      "provenance": [],
      "mount_file_id": "1NDxqh4wSLoVtmvvYumudyMb258TOrklf",
      "authorship_tag": "ABX9TyMEUls8gu3B7E/3t9TWF+46",
      "include_colab_link": true
    },
    "kernelspec": {
      "name": "python3",
      "display_name": "Python 3"
    },
    "language_info": {
      "name": "python"
    }
  },
  "cells": [
    {
      "cell_type": "markdown",
      "metadata": {
        "id": "view-in-github",
        "colab_type": "text"
      },
      "source": [
        "<a href=\"https://colab.research.google.com/github/KaydeeJR/logistics-optimization-causal-inference/blob/Main/notebooks/gokada_data_cleaning.ipynb\" target=\"_parent\"><img src=\"https://colab.research.google.com/assets/colab-badge.svg\" alt=\"Open In Colab\"/></a>"
      ]
    },
    {
      "cell_type": "code",
      "execution_count": 1,
      "metadata": {
        "colab": {
          "base_uri": "https://localhost:8080/"
        },
        "id": "X1zr4MQRF-Z9",
        "outputId": "2c82e4e9-ff3d-4b81-e77b-f4dba04ef904"
      },
      "outputs": [
        {
          "output_type": "stream",
          "name": "stdout",
          "text": [
            "/content/drive/MyDrive/Datasets/GokadaData\n"
          ]
        }
      ],
      "source": [
        "%cd /content/drive/MyDrive/Datasets/GokadaData/\n",
        "driver_locations = \"driver_locations_during_request.csv\"\n",
        "feat_eng_file = \"gokada_feat_eng.csv\""
      ]
    },
    {
      "cell_type": "code",
      "source": [
        "import pandas as pd\n",
        "df_feat_eng = pd.read_csv(feat_eng_file)"
      ],
      "metadata": {
        "id": "yOPc_jD8ITU-"
      },
      "execution_count": 2,
      "outputs": []
    },
    {
      "cell_type": "markdown",
      "source": [
        "## Missing values"
      ],
      "metadata": {
        "id": "k-BmzulLH-Ji"
      }
    },
    {
      "cell_type": "code",
      "source": [
        "df_feat_eng.isnull().sum() * 100 / len(df_feat_eng)"
      ],
      "metadata": {
        "colab": {
          "base_uri": "https://localhost:8080/"
        },
        "id": "fmgHDU3PHxx1",
        "outputId": "e302d12f-2d2b-4fed-e637-f47833b43b61"
      },
      "execution_count": 3,
      "outputs": [
        {
          "output_type": "execute_result",
          "data": {
            "text/plain": [
              "Unnamed: 0            0.000000\n",
              "Trip ID               0.000000\n",
              "Trip Origin           0.000000\n",
              "Trip Destination      0.000000\n",
              "Trip Start Time       0.696779\n",
              "Trip End Time         0.000000\n",
              "order_id              0.000000\n",
              "driver_id             0.000000\n",
              "driver_action         0.000000\n",
              "lat                   0.000000\n",
              "lng                   0.000000\n",
              "created_at          100.000000\n",
              "updated_at          100.000000\n",
              "start_hour            0.696779\n",
              "end_hour              0.000000\n",
              "trip_distance_km      0.000000\n",
              "trip_time             0.696779\n",
              "Start Date            0.696779\n",
              "rainy                 0.000000\n",
              "holiday               0.000000\n",
              "weekend               0.000000\n",
              "dtype: float64"
            ]
          },
          "metadata": {},
          "execution_count": 3
        }
      ]
    },
    {
      "cell_type": "markdown",
      "source": [
        "*Empty values resulted from trip start time*"
      ],
      "metadata": {
        "id": "3IvpIUgzI4uX"
      }
    },
    {
      "cell_type": "code",
      "source": [
        "col_to_drop = ['created_at','updated_at','Unnamed: 0', 'Start Date', 'holiday']\n",
        "new_df = df_feat_eng.drop(col_to_drop, axis=1)"
      ],
      "metadata": {
        "id": "lnS0zDaOK8IN"
      },
      "execution_count": 4,
      "outputs": []
    },
    {
      "cell_type": "code",
      "source": [
        "df_missing_val = new_df.dropna()"
      ],
      "metadata": {
        "id": "gOU_HmCsIOYo"
      },
      "execution_count": 5,
      "outputs": []
    },
    {
      "cell_type": "code",
      "source": [
        "df_missing_val.isnull().sum()"
      ],
      "metadata": {
        "colab": {
          "base_uri": "https://localhost:8080/"
        },
        "id": "r0eKwcMKNQfF",
        "outputId": "52a7ac86-7c10-4ca8-a7c9-846aa7bad63a"
      },
      "execution_count": 6,
      "outputs": [
        {
          "output_type": "execute_result",
          "data": {
            "text/plain": [
              "Trip ID             0\n",
              "Trip Origin         0\n",
              "Trip Destination    0\n",
              "Trip Start Time     0\n",
              "Trip End Time       0\n",
              "order_id            0\n",
              "driver_id           0\n",
              "driver_action       0\n",
              "lat                 0\n",
              "lng                 0\n",
              "start_hour          0\n",
              "end_hour            0\n",
              "trip_distance_km    0\n",
              "trip_time           0\n",
              "rainy               0\n",
              "weekend             0\n",
              "dtype: int64"
            ]
          },
          "metadata": {},
          "execution_count": 6
        }
      ]
    },
    {
      "cell_type": "code",
      "source": [
        "df_missing_val.info()"
      ],
      "metadata": {
        "colab": {
          "base_uri": "https://localhost:8080/"
        },
        "id": "tcuPgF7nO4Ru",
        "outputId": "cec4db6c-e6d0-41d1-c210-e6956675a174"
      },
      "execution_count": 7,
      "outputs": [
        {
          "output_type": "stream",
          "name": "stdout",
          "text": [
            "<class 'pandas.core.frame.DataFrame'>\n",
            "Int64Index: 1546886 entries, 0 to 1557739\n",
            "Data columns (total 16 columns):\n",
            " #   Column            Non-Null Count    Dtype  \n",
            "---  ------            --------------    -----  \n",
            " 0   Trip ID           1546886 non-null  int64  \n",
            " 1   Trip Origin       1546886 non-null  object \n",
            " 2   Trip Destination  1546886 non-null  object \n",
            " 3   Trip Start Time   1546886 non-null  object \n",
            " 4   Trip End Time     1546886 non-null  object \n",
            " 5   order_id          1546886 non-null  int64  \n",
            " 6   driver_id         1546886 non-null  int64  \n",
            " 7   driver_action     1546886 non-null  object \n",
            " 8   lat               1546886 non-null  float64\n",
            " 9   lng               1546886 non-null  float64\n",
            " 10  start_hour        1546886 non-null  float64\n",
            " 11  end_hour          1546886 non-null  int64  \n",
            " 12  trip_distance_km  1546886 non-null  float64\n",
            " 13  trip_time         1546886 non-null  object \n",
            " 14  rainy             1546886 non-null  bool   \n",
            " 15  weekend           1546886 non-null  bool   \n",
            "dtypes: bool(2), float64(4), int64(4), object(6)\n",
            "memory usage: 180.0+ MB\n"
          ]
        }
      ]
    },
    {
      "cell_type": "code",
      "source": [
        "df_missing_val.describe()"
      ],
      "metadata": {
        "colab": {
          "base_uri": "https://localhost:8080/",
          "height": 300
        },
        "id": "13yM5bN8RwY1",
        "outputId": "e57f0ea0-d02b-423e-db76-a4bdf84b634b"
      },
      "execution_count": 8,
      "outputs": [
        {
          "output_type": "execute_result",
          "data": {
            "text/plain": [
              "            Trip ID      order_id     driver_id           lat           lng  \\\n",
              "count  1.546886e+06  1.546886e+06  1.546886e+06  1.546886e+06  1.546886e+06   \n",
              "mean   1.319561e+06  4.192284e+05  2.341530e+05  6.536097e+00  3.378828e+00   \n",
              "std    3.195611e+04  1.442346e+04  2.270416e+04  5.991502e-02  5.328545e-02   \n",
              "min    1.259089e+06  3.920010e+05  1.219810e+05  6.409333e+00  3.076561e+00   \n",
              "25%    1.293251e+06  4.069540e+05  2.429970e+05  6.498711e+00  3.348846e+00   \n",
              "50%    1.324634e+06  4.217350e+05  2.435890e+05  6.544250e+00  3.363504e+00   \n",
              "75%    1.340384e+06  4.293130e+05  2.440560e+05  6.593231e+00  3.385136e+00   \n",
              "max    1.570716e+06  5.179480e+05  2.478770e+05  7.702536e+00  8.515414e+00   \n",
              "\n",
              "         start_hour      end_hour  trip_distance_km  \n",
              "count  1.546886e+06  1.546886e+06      1.546886e+06  \n",
              "mean   1.345592e+01  1.440968e+01      1.182662e+01  \n",
              "std    3.305160e+00  3.371022e+00      8.410192e+00  \n",
              "min    0.000000e+00  0.000000e+00      0.000000e+00  \n",
              "25%    1.100000e+01  1.200000e+01      5.031020e+00  \n",
              "50%    1.400000e+01  1.500000e+01      1.014846e+01  \n",
              "75%    1.600000e+01  1.700000e+01      1.707343e+01  \n",
              "max    2.300000e+01  2.300000e+01      8.499244e+01  "
            ],
            "text/html": [
              "\n",
              "  <div id=\"df-b9e19f56-2928-4dc6-878c-7e459ac86035\">\n",
              "    <div class=\"colab-df-container\">\n",
              "      <div>\n",
              "<style scoped>\n",
              "    .dataframe tbody tr th:only-of-type {\n",
              "        vertical-align: middle;\n",
              "    }\n",
              "\n",
              "    .dataframe tbody tr th {\n",
              "        vertical-align: top;\n",
              "    }\n",
              "\n",
              "    .dataframe thead th {\n",
              "        text-align: right;\n",
              "    }\n",
              "</style>\n",
              "<table border=\"1\" class=\"dataframe\">\n",
              "  <thead>\n",
              "    <tr style=\"text-align: right;\">\n",
              "      <th></th>\n",
              "      <th>Trip ID</th>\n",
              "      <th>order_id</th>\n",
              "      <th>driver_id</th>\n",
              "      <th>lat</th>\n",
              "      <th>lng</th>\n",
              "      <th>start_hour</th>\n",
              "      <th>end_hour</th>\n",
              "      <th>trip_distance_km</th>\n",
              "    </tr>\n",
              "  </thead>\n",
              "  <tbody>\n",
              "    <tr>\n",
              "      <th>count</th>\n",
              "      <td>1.546886e+06</td>\n",
              "      <td>1.546886e+06</td>\n",
              "      <td>1.546886e+06</td>\n",
              "      <td>1.546886e+06</td>\n",
              "      <td>1.546886e+06</td>\n",
              "      <td>1.546886e+06</td>\n",
              "      <td>1.546886e+06</td>\n",
              "      <td>1.546886e+06</td>\n",
              "    </tr>\n",
              "    <tr>\n",
              "      <th>mean</th>\n",
              "      <td>1.319561e+06</td>\n",
              "      <td>4.192284e+05</td>\n",
              "      <td>2.341530e+05</td>\n",
              "      <td>6.536097e+00</td>\n",
              "      <td>3.378828e+00</td>\n",
              "      <td>1.345592e+01</td>\n",
              "      <td>1.440968e+01</td>\n",
              "      <td>1.182662e+01</td>\n",
              "    </tr>\n",
              "    <tr>\n",
              "      <th>std</th>\n",
              "      <td>3.195611e+04</td>\n",
              "      <td>1.442346e+04</td>\n",
              "      <td>2.270416e+04</td>\n",
              "      <td>5.991502e-02</td>\n",
              "      <td>5.328545e-02</td>\n",
              "      <td>3.305160e+00</td>\n",
              "      <td>3.371022e+00</td>\n",
              "      <td>8.410192e+00</td>\n",
              "    </tr>\n",
              "    <tr>\n",
              "      <th>min</th>\n",
              "      <td>1.259089e+06</td>\n",
              "      <td>3.920010e+05</td>\n",
              "      <td>1.219810e+05</td>\n",
              "      <td>6.409333e+00</td>\n",
              "      <td>3.076561e+00</td>\n",
              "      <td>0.000000e+00</td>\n",
              "      <td>0.000000e+00</td>\n",
              "      <td>0.000000e+00</td>\n",
              "    </tr>\n",
              "    <tr>\n",
              "      <th>25%</th>\n",
              "      <td>1.293251e+06</td>\n",
              "      <td>4.069540e+05</td>\n",
              "      <td>2.429970e+05</td>\n",
              "      <td>6.498711e+00</td>\n",
              "      <td>3.348846e+00</td>\n",
              "      <td>1.100000e+01</td>\n",
              "      <td>1.200000e+01</td>\n",
              "      <td>5.031020e+00</td>\n",
              "    </tr>\n",
              "    <tr>\n",
              "      <th>50%</th>\n",
              "      <td>1.324634e+06</td>\n",
              "      <td>4.217350e+05</td>\n",
              "      <td>2.435890e+05</td>\n",
              "      <td>6.544250e+00</td>\n",
              "      <td>3.363504e+00</td>\n",
              "      <td>1.400000e+01</td>\n",
              "      <td>1.500000e+01</td>\n",
              "      <td>1.014846e+01</td>\n",
              "    </tr>\n",
              "    <tr>\n",
              "      <th>75%</th>\n",
              "      <td>1.340384e+06</td>\n",
              "      <td>4.293130e+05</td>\n",
              "      <td>2.440560e+05</td>\n",
              "      <td>6.593231e+00</td>\n",
              "      <td>3.385136e+00</td>\n",
              "      <td>1.600000e+01</td>\n",
              "      <td>1.700000e+01</td>\n",
              "      <td>1.707343e+01</td>\n",
              "    </tr>\n",
              "    <tr>\n",
              "      <th>max</th>\n",
              "      <td>1.570716e+06</td>\n",
              "      <td>5.179480e+05</td>\n",
              "      <td>2.478770e+05</td>\n",
              "      <td>7.702536e+00</td>\n",
              "      <td>8.515414e+00</td>\n",
              "      <td>2.300000e+01</td>\n",
              "      <td>2.300000e+01</td>\n",
              "      <td>8.499244e+01</td>\n",
              "    </tr>\n",
              "  </tbody>\n",
              "</table>\n",
              "</div>\n",
              "      <button class=\"colab-df-convert\" onclick=\"convertToInteractive('df-b9e19f56-2928-4dc6-878c-7e459ac86035')\"\n",
              "              title=\"Convert this dataframe to an interactive table.\"\n",
              "              style=\"display:none;\">\n",
              "        \n",
              "  <svg xmlns=\"http://www.w3.org/2000/svg\" height=\"24px\"viewBox=\"0 0 24 24\"\n",
              "       width=\"24px\">\n",
              "    <path d=\"M0 0h24v24H0V0z\" fill=\"none\"/>\n",
              "    <path d=\"M18.56 5.44l.94 2.06.94-2.06 2.06-.94-2.06-.94-.94-2.06-.94 2.06-2.06.94zm-11 1L8.5 8.5l.94-2.06 2.06-.94-2.06-.94L8.5 2.5l-.94 2.06-2.06.94zm10 10l.94 2.06.94-2.06 2.06-.94-2.06-.94-.94-2.06-.94 2.06-2.06.94z\"/><path d=\"M17.41 7.96l-1.37-1.37c-.4-.4-.92-.59-1.43-.59-.52 0-1.04.2-1.43.59L10.3 9.45l-7.72 7.72c-.78.78-.78 2.05 0 2.83L4 21.41c.39.39.9.59 1.41.59.51 0 1.02-.2 1.41-.59l7.78-7.78 2.81-2.81c.8-.78.8-2.07 0-2.86zM5.41 20L4 18.59l7.72-7.72 1.47 1.35L5.41 20z\"/>\n",
              "  </svg>\n",
              "      </button>\n",
              "      \n",
              "  <style>\n",
              "    .colab-df-container {\n",
              "      display:flex;\n",
              "      flex-wrap:wrap;\n",
              "      gap: 12px;\n",
              "    }\n",
              "\n",
              "    .colab-df-convert {\n",
              "      background-color: #E8F0FE;\n",
              "      border: none;\n",
              "      border-radius: 50%;\n",
              "      cursor: pointer;\n",
              "      display: none;\n",
              "      fill: #1967D2;\n",
              "      height: 32px;\n",
              "      padding: 0 0 0 0;\n",
              "      width: 32px;\n",
              "    }\n",
              "\n",
              "    .colab-df-convert:hover {\n",
              "      background-color: #E2EBFA;\n",
              "      box-shadow: 0px 1px 2px rgba(60, 64, 67, 0.3), 0px 1px 3px 1px rgba(60, 64, 67, 0.15);\n",
              "      fill: #174EA6;\n",
              "    }\n",
              "\n",
              "    [theme=dark] .colab-df-convert {\n",
              "      background-color: #3B4455;\n",
              "      fill: #D2E3FC;\n",
              "    }\n",
              "\n",
              "    [theme=dark] .colab-df-convert:hover {\n",
              "      background-color: #434B5C;\n",
              "      box-shadow: 0px 1px 3px 1px rgba(0, 0, 0, 0.15);\n",
              "      filter: drop-shadow(0px 1px 2px rgba(0, 0, 0, 0.3));\n",
              "      fill: #FFFFFF;\n",
              "    }\n",
              "  </style>\n",
              "\n",
              "      <script>\n",
              "        const buttonEl =\n",
              "          document.querySelector('#df-b9e19f56-2928-4dc6-878c-7e459ac86035 button.colab-df-convert');\n",
              "        buttonEl.style.display =\n",
              "          google.colab.kernel.accessAllowed ? 'block' : 'none';\n",
              "\n",
              "        async function convertToInteractive(key) {\n",
              "          const element = document.querySelector('#df-b9e19f56-2928-4dc6-878c-7e459ac86035');\n",
              "          const dataTable =\n",
              "            await google.colab.kernel.invokeFunction('convertToInteractive',\n",
              "                                                     [key], {});\n",
              "          if (!dataTable) return;\n",
              "\n",
              "          const docLinkHtml = 'Like what you see? Visit the ' +\n",
              "            '<a target=\"_blank\" href=https://colab.research.google.com/notebooks/data_table.ipynb>data table notebook</a>'\n",
              "            + ' to learn more about interactive tables.';\n",
              "          element.innerHTML = '';\n",
              "          dataTable['output_type'] = 'display_data';\n",
              "          await google.colab.output.renderOutput(dataTable, element);\n",
              "          const docLink = document.createElement('div');\n",
              "          docLink.innerHTML = docLinkHtml;\n",
              "          element.appendChild(docLink);\n",
              "        }\n",
              "      </script>\n",
              "    </div>\n",
              "  </div>\n",
              "  "
            ]
          },
          "metadata": {},
          "execution_count": 8
        }
      ]
    },
    {
      "cell_type": "markdown",
      "source": [
        "## Outliers"
      ],
      "metadata": {
        "id": "PxYiMQixN4QW"
      }
    },
    {
      "cell_type": "code",
      "source": [
        "!pip install seaborn\n",
        "import seaborn as sns"
      ],
      "metadata": {
        "id": "FskzNHl4NY5O",
        "colab": {
          "base_uri": "https://localhost:8080/"
        },
        "outputId": "6d4e6873-56b5-4c0a-848b-d6b580ac2604"
      },
      "execution_count": 9,
      "outputs": [
        {
          "output_type": "stream",
          "name": "stdout",
          "text": [
            "Looking in indexes: https://pypi.org/simple, https://us-python.pkg.dev/colab-wheels/public/simple/\n",
            "Requirement already satisfied: seaborn in /usr/local/lib/python3.7/dist-packages (0.11.2)\n",
            "Requirement already satisfied: matplotlib>=2.2 in /usr/local/lib/python3.7/dist-packages (from seaborn) (3.2.2)\n",
            "Requirement already satisfied: numpy>=1.15 in /usr/local/lib/python3.7/dist-packages (from seaborn) (1.21.6)\n",
            "Requirement already satisfied: scipy>=1.0 in /usr/local/lib/python3.7/dist-packages (from seaborn) (1.7.3)\n",
            "Requirement already satisfied: pandas>=0.23 in /usr/local/lib/python3.7/dist-packages (from seaborn) (1.3.5)\n",
            "Requirement already satisfied: python-dateutil>=2.1 in /usr/local/lib/python3.7/dist-packages (from matplotlib>=2.2->seaborn) (2.8.2)\n",
            "Requirement already satisfied: kiwisolver>=1.0.1 in /usr/local/lib/python3.7/dist-packages (from matplotlib>=2.2->seaborn) (1.4.4)\n",
            "Requirement already satisfied: pyparsing!=2.0.4,!=2.1.2,!=2.1.6,>=2.0.1 in /usr/local/lib/python3.7/dist-packages (from matplotlib>=2.2->seaborn) (3.0.9)\n",
            "Requirement already satisfied: cycler>=0.10 in /usr/local/lib/python3.7/dist-packages (from matplotlib>=2.2->seaborn) (0.11.0)\n",
            "Requirement already satisfied: typing-extensions in /usr/local/lib/python3.7/dist-packages (from kiwisolver>=1.0.1->matplotlib>=2.2->seaborn) (4.1.1)\n",
            "Requirement already satisfied: pytz>=2017.3 in /usr/local/lib/python3.7/dist-packages (from pandas>=0.23->seaborn) (2022.4)\n",
            "Requirement already satisfied: six>=1.5 in /usr/local/lib/python3.7/dist-packages (from python-dateutil>=2.1->matplotlib>=2.2->seaborn) (1.15.0)\n"
          ]
        }
      ]
    },
    {
      "cell_type": "code",
      "source": [
        "numeric_cols = df_missing_val.select_dtypes(include=['float64','int64']) \n",
        "column_list = list(numeric_cols.columns)"
      ],
      "metadata": {
        "id": "z0W9RLnvOk7q"
      },
      "execution_count": 10,
      "outputs": []
    },
    {
      "cell_type": "code",
      "source": [
        "!pip install sklearn\n",
        "import sklearn\n",
        "import numpy as np"
      ],
      "metadata": {
        "id": "AFhqG5bjQIaX",
        "colab": {
          "base_uri": "https://localhost:8080/"
        },
        "outputId": "3d1afd46-7943-4c3d-e692-073a7e1229e7"
      },
      "execution_count": 11,
      "outputs": [
        {
          "output_type": "stream",
          "name": "stdout",
          "text": [
            "Looking in indexes: https://pypi.org/simple, https://us-python.pkg.dev/colab-wheels/public/simple/\n",
            "Collecting sklearn\n",
            "  Downloading sklearn-0.0.tar.gz (1.1 kB)\n",
            "Requirement already satisfied: scikit-learn in /usr/local/lib/python3.7/dist-packages (from sklearn) (1.0.2)\n",
            "Requirement already satisfied: joblib>=0.11 in /usr/local/lib/python3.7/dist-packages (from scikit-learn->sklearn) (1.2.0)\n",
            "Requirement already satisfied: numpy>=1.14.6 in /usr/local/lib/python3.7/dist-packages (from scikit-learn->sklearn) (1.21.6)\n",
            "Requirement already satisfied: scipy>=1.1.0 in /usr/local/lib/python3.7/dist-packages (from scikit-learn->sklearn) (1.7.3)\n",
            "Requirement already satisfied: threadpoolctl>=2.0.0 in /usr/local/lib/python3.7/dist-packages (from scikit-learn->sklearn) (3.1.0)\n",
            "Building wheels for collected packages: sklearn\n",
            "  Building wheel for sklearn (setup.py) ... \u001b[?25l\u001b[?25hdone\n",
            "  Created wheel for sklearn: filename=sklearn-0.0-py2.py3-none-any.whl size=1310 sha256=c8402b99cd8b26572e5c50a30380027bb6f89815778836b556fd0924ef99311f\n",
            "  Stored in directory: /root/.cache/pip/wheels/46/ef/c3/157e41f5ee1372d1be90b09f74f82b10e391eaacca8f22d33e\n",
            "Successfully built sklearn\n",
            "Installing collected packages: sklearn\n",
            "Successfully installed sklearn-0.0\n"
          ]
        }
      ]
    },
    {
      "cell_type": "code",
      "source": [
        "# Detecting and removing outliers using IQR\n",
        "Q1 = df_missing_val[column_list].quantile(0.25)\n",
        "Q3 = df_missing_val[column_list].quantile(0.75)\n",
        "IQR = Q3 - Q1\n",
        "\n",
        "# Return a boolean array of the rows with (any) non-outlier column values\n",
        "condition = ~((df_missing_val[column_list]< (Q1 - 1.5 * IQR)) | (df_missing_val[column_list] > (Q3 + 1.5 * IQR))).any(axis=1)\n",
        "\n",
        "# Filter our dataframe based on condition\n",
        "clean_df = df_missing_val[condition]"
      ],
      "metadata": {
        "id": "rm1-4jBaP9Ba"
      },
      "execution_count": 12,
      "outputs": []
    },
    {
      "cell_type": "code",
      "source": [
        "clean_df.describe()"
      ],
      "metadata": {
        "colab": {
          "base_uri": "https://localhost:8080/",
          "height": 300
        },
        "id": "PsFr3DD5Rr-v",
        "outputId": "fa0063cb-1202-4be1-cc23-6537a640c384"
      },
      "execution_count": 13,
      "outputs": [
        {
          "output_type": "execute_result",
          "data": {
            "text/plain": [
              "            Trip ID       order_id      driver_id            lat  \\\n",
              "count  9.807470e+05  980747.000000  980747.000000  980747.000000   \n",
              "mean   1.318879e+06  418942.430456  243882.206206       6.549530   \n",
              "std    3.150089e+04   14241.921532     758.286486       0.050183   \n",
              "min    1.259098e+06  392005.000000  241760.000000       6.409333   \n",
              "25%    1.292260e+06  406510.000000  243395.000000       6.517622   \n",
              "50%    1.324692e+06  421766.000000  243767.000000       6.544484   \n",
              "75%    1.339620e+06  428892.000000  244108.000000       6.594491   \n",
              "max    1.386520e+06  448616.000000  245644.000000       6.728332   \n",
              "\n",
              "                 lng     start_hour       end_hour  trip_distance_km  \n",
              "count  980747.000000  980747.000000  980747.000000     980747.000000  \n",
              "mean        3.363414      13.476043      14.439124         11.651529  \n",
              "std         0.023268       3.309323       3.357869          7.934069  \n",
              "min         3.294447       5.000000       5.000000          0.000000  \n",
              "25%         3.347414      11.000000      12.000000          5.050384  \n",
              "50%         3.363415      14.000000      15.000000         10.148461  \n",
              "75%         3.375737      16.000000      17.000000         16.990991  \n",
              "max         3.439562      23.000000      23.000000         35.128115  "
            ],
            "text/html": [
              "\n",
              "  <div id=\"df-80f00087-85b8-4790-8204-7e20fe07152b\">\n",
              "    <div class=\"colab-df-container\">\n",
              "      <div>\n",
              "<style scoped>\n",
              "    .dataframe tbody tr th:only-of-type {\n",
              "        vertical-align: middle;\n",
              "    }\n",
              "\n",
              "    .dataframe tbody tr th {\n",
              "        vertical-align: top;\n",
              "    }\n",
              "\n",
              "    .dataframe thead th {\n",
              "        text-align: right;\n",
              "    }\n",
              "</style>\n",
              "<table border=\"1\" class=\"dataframe\">\n",
              "  <thead>\n",
              "    <tr style=\"text-align: right;\">\n",
              "      <th></th>\n",
              "      <th>Trip ID</th>\n",
              "      <th>order_id</th>\n",
              "      <th>driver_id</th>\n",
              "      <th>lat</th>\n",
              "      <th>lng</th>\n",
              "      <th>start_hour</th>\n",
              "      <th>end_hour</th>\n",
              "      <th>trip_distance_km</th>\n",
              "    </tr>\n",
              "  </thead>\n",
              "  <tbody>\n",
              "    <tr>\n",
              "      <th>count</th>\n",
              "      <td>9.807470e+05</td>\n",
              "      <td>980747.000000</td>\n",
              "      <td>980747.000000</td>\n",
              "      <td>980747.000000</td>\n",
              "      <td>980747.000000</td>\n",
              "      <td>980747.000000</td>\n",
              "      <td>980747.000000</td>\n",
              "      <td>980747.000000</td>\n",
              "    </tr>\n",
              "    <tr>\n",
              "      <th>mean</th>\n",
              "      <td>1.318879e+06</td>\n",
              "      <td>418942.430456</td>\n",
              "      <td>243882.206206</td>\n",
              "      <td>6.549530</td>\n",
              "      <td>3.363414</td>\n",
              "      <td>13.476043</td>\n",
              "      <td>14.439124</td>\n",
              "      <td>11.651529</td>\n",
              "    </tr>\n",
              "    <tr>\n",
              "      <th>std</th>\n",
              "      <td>3.150089e+04</td>\n",
              "      <td>14241.921532</td>\n",
              "      <td>758.286486</td>\n",
              "      <td>0.050183</td>\n",
              "      <td>0.023268</td>\n",
              "      <td>3.309323</td>\n",
              "      <td>3.357869</td>\n",
              "      <td>7.934069</td>\n",
              "    </tr>\n",
              "    <tr>\n",
              "      <th>min</th>\n",
              "      <td>1.259098e+06</td>\n",
              "      <td>392005.000000</td>\n",
              "      <td>241760.000000</td>\n",
              "      <td>6.409333</td>\n",
              "      <td>3.294447</td>\n",
              "      <td>5.000000</td>\n",
              "      <td>5.000000</td>\n",
              "      <td>0.000000</td>\n",
              "    </tr>\n",
              "    <tr>\n",
              "      <th>25%</th>\n",
              "      <td>1.292260e+06</td>\n",
              "      <td>406510.000000</td>\n",
              "      <td>243395.000000</td>\n",
              "      <td>6.517622</td>\n",
              "      <td>3.347414</td>\n",
              "      <td>11.000000</td>\n",
              "      <td>12.000000</td>\n",
              "      <td>5.050384</td>\n",
              "    </tr>\n",
              "    <tr>\n",
              "      <th>50%</th>\n",
              "      <td>1.324692e+06</td>\n",
              "      <td>421766.000000</td>\n",
              "      <td>243767.000000</td>\n",
              "      <td>6.544484</td>\n",
              "      <td>3.363415</td>\n",
              "      <td>14.000000</td>\n",
              "      <td>15.000000</td>\n",
              "      <td>10.148461</td>\n",
              "    </tr>\n",
              "    <tr>\n",
              "      <th>75%</th>\n",
              "      <td>1.339620e+06</td>\n",
              "      <td>428892.000000</td>\n",
              "      <td>244108.000000</td>\n",
              "      <td>6.594491</td>\n",
              "      <td>3.375737</td>\n",
              "      <td>16.000000</td>\n",
              "      <td>17.000000</td>\n",
              "      <td>16.990991</td>\n",
              "    </tr>\n",
              "    <tr>\n",
              "      <th>max</th>\n",
              "      <td>1.386520e+06</td>\n",
              "      <td>448616.000000</td>\n",
              "      <td>245644.000000</td>\n",
              "      <td>6.728332</td>\n",
              "      <td>3.439562</td>\n",
              "      <td>23.000000</td>\n",
              "      <td>23.000000</td>\n",
              "      <td>35.128115</td>\n",
              "    </tr>\n",
              "  </tbody>\n",
              "</table>\n",
              "</div>\n",
              "      <button class=\"colab-df-convert\" onclick=\"convertToInteractive('df-80f00087-85b8-4790-8204-7e20fe07152b')\"\n",
              "              title=\"Convert this dataframe to an interactive table.\"\n",
              "              style=\"display:none;\">\n",
              "        \n",
              "  <svg xmlns=\"http://www.w3.org/2000/svg\" height=\"24px\"viewBox=\"0 0 24 24\"\n",
              "       width=\"24px\">\n",
              "    <path d=\"M0 0h24v24H0V0z\" fill=\"none\"/>\n",
              "    <path d=\"M18.56 5.44l.94 2.06.94-2.06 2.06-.94-2.06-.94-.94-2.06-.94 2.06-2.06.94zm-11 1L8.5 8.5l.94-2.06 2.06-.94-2.06-.94L8.5 2.5l-.94 2.06-2.06.94zm10 10l.94 2.06.94-2.06 2.06-.94-2.06-.94-.94-2.06-.94 2.06-2.06.94z\"/><path d=\"M17.41 7.96l-1.37-1.37c-.4-.4-.92-.59-1.43-.59-.52 0-1.04.2-1.43.59L10.3 9.45l-7.72 7.72c-.78.78-.78 2.05 0 2.83L4 21.41c.39.39.9.59 1.41.59.51 0 1.02-.2 1.41-.59l7.78-7.78 2.81-2.81c.8-.78.8-2.07 0-2.86zM5.41 20L4 18.59l7.72-7.72 1.47 1.35L5.41 20z\"/>\n",
              "  </svg>\n",
              "      </button>\n",
              "      \n",
              "  <style>\n",
              "    .colab-df-container {\n",
              "      display:flex;\n",
              "      flex-wrap:wrap;\n",
              "      gap: 12px;\n",
              "    }\n",
              "\n",
              "    .colab-df-convert {\n",
              "      background-color: #E8F0FE;\n",
              "      border: none;\n",
              "      border-radius: 50%;\n",
              "      cursor: pointer;\n",
              "      display: none;\n",
              "      fill: #1967D2;\n",
              "      height: 32px;\n",
              "      padding: 0 0 0 0;\n",
              "      width: 32px;\n",
              "    }\n",
              "\n",
              "    .colab-df-convert:hover {\n",
              "      background-color: #E2EBFA;\n",
              "      box-shadow: 0px 1px 2px rgba(60, 64, 67, 0.3), 0px 1px 3px 1px rgba(60, 64, 67, 0.15);\n",
              "      fill: #174EA6;\n",
              "    }\n",
              "\n",
              "    [theme=dark] .colab-df-convert {\n",
              "      background-color: #3B4455;\n",
              "      fill: #D2E3FC;\n",
              "    }\n",
              "\n",
              "    [theme=dark] .colab-df-convert:hover {\n",
              "      background-color: #434B5C;\n",
              "      box-shadow: 0px 1px 3px 1px rgba(0, 0, 0, 0.15);\n",
              "      filter: drop-shadow(0px 1px 2px rgba(0, 0, 0, 0.3));\n",
              "      fill: #FFFFFF;\n",
              "    }\n",
              "  </style>\n",
              "\n",
              "      <script>\n",
              "        const buttonEl =\n",
              "          document.querySelector('#df-80f00087-85b8-4790-8204-7e20fe07152b button.colab-df-convert');\n",
              "        buttonEl.style.display =\n",
              "          google.colab.kernel.accessAllowed ? 'block' : 'none';\n",
              "\n",
              "        async function convertToInteractive(key) {\n",
              "          const element = document.querySelector('#df-80f00087-85b8-4790-8204-7e20fe07152b');\n",
              "          const dataTable =\n",
              "            await google.colab.kernel.invokeFunction('convertToInteractive',\n",
              "                                                     [key], {});\n",
              "          if (!dataTable) return;\n",
              "\n",
              "          const docLinkHtml = 'Like what you see? Visit the ' +\n",
              "            '<a target=\"_blank\" href=https://colab.research.google.com/notebooks/data_table.ipynb>data table notebook</a>'\n",
              "            + ' to learn more about interactive tables.';\n",
              "          element.innerHTML = '';\n",
              "          dataTable['output_type'] = 'display_data';\n",
              "          await google.colab.output.renderOutput(dataTable, element);\n",
              "          const docLink = document.createElement('div');\n",
              "          docLink.innerHTML = docLinkHtml;\n",
              "          element.appendChild(docLink);\n",
              "        }\n",
              "      </script>\n",
              "    </div>\n",
              "  </div>\n",
              "  "
            ]
          },
          "metadata": {},
          "execution_count": 13
        }
      ]
    },
    {
      "cell_type": "markdown",
      "source": [
        "## One Hot Encoding"
      ],
      "metadata": {
        "id": "53_UIzX6S-Qx"
      }
    },
    {
      "cell_type": "code",
      "source": [
        "cat_columns = ['rainy','weekend']\n",
        "\n",
        "encoded_df = pd.get_dummies(clean_df, columns = cat_columns)"
      ],
      "metadata": {
        "id": "6dmSYdtySht2"
      },
      "execution_count": 14,
      "outputs": []
    },
    {
      "cell_type": "code",
      "source": [
        "encoded_df.info()"
      ],
      "metadata": {
        "colab": {
          "base_uri": "https://localhost:8080/"
        },
        "id": "KKnh7HOzUZkU",
        "outputId": "57c7baca-f552-4191-daed-59db1565ee05"
      },
      "execution_count": 15,
      "outputs": [
        {
          "output_type": "stream",
          "name": "stdout",
          "text": [
            "<class 'pandas.core.frame.DataFrame'>\n",
            "Int64Index: 980747 entries, 10 to 1557591\n",
            "Data columns (total 18 columns):\n",
            " #   Column            Non-Null Count   Dtype  \n",
            "---  ------            --------------   -----  \n",
            " 0   Trip ID           980747 non-null  int64  \n",
            " 1   Trip Origin       980747 non-null  object \n",
            " 2   Trip Destination  980747 non-null  object \n",
            " 3   Trip Start Time   980747 non-null  object \n",
            " 4   Trip End Time     980747 non-null  object \n",
            " 5   order_id          980747 non-null  int64  \n",
            " 6   driver_id         980747 non-null  int64  \n",
            " 7   driver_action     980747 non-null  object \n",
            " 8   lat               980747 non-null  float64\n",
            " 9   lng               980747 non-null  float64\n",
            " 10  start_hour        980747 non-null  float64\n",
            " 11  end_hour          980747 non-null  int64  \n",
            " 12  trip_distance_km  980747 non-null  float64\n",
            " 13  trip_time         980747 non-null  object \n",
            " 14  rainy_False       980747 non-null  uint8  \n",
            " 15  rainy_True        980747 non-null  uint8  \n",
            " 16  weekend_False     980747 non-null  uint8  \n",
            " 17  weekend_True      980747 non-null  uint8  \n",
            "dtypes: float64(4), int64(4), object(6), uint8(4)\n",
            "memory usage: 116.0+ MB\n"
          ]
        }
      ]
    },
    {
      "cell_type": "markdown",
      "source": [
        "## Splitting dataset"
      ],
      "metadata": {
        "id": "kcF2uhD4WEUG"
      }
    },
    {
      "cell_type": "code",
      "source": [
        "!pip install sklearn\n",
        "from sklearn.model_selection import train_test_split"
      ],
      "metadata": {
        "id": "nqQGWuYeJQhw"
      },
      "execution_count": null,
      "outputs": []
    },
    {
      "cell_type": "code",
      "source": [
        "X_train, X_test, y_train, y_test = train_test_split(encoded_df, y, test_size=0.20, shuffle=False)"
      ],
      "metadata": {
        "id": "zyPHF1GUXEAk"
      },
      "execution_count": null,
      "outputs": []
    }
  ]
}