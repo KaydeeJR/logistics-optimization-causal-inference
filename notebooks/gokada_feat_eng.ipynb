{
  "nbformat": 4,
  "nbformat_minor": 0,
  "metadata": {
    "colab": {
      "provenance": [],
      "collapsed_sections": [],
      "mount_file_id": "1JbANZ1Wxd1Z9lfcZOxy2FQoUXT1z9t7q",
      "authorship_tag": "ABX9TyNGQVc4xJvq0xl/us6/2Cf2",
      "include_colab_link": true
    },
    "kernelspec": {
      "name": "python3",
      "display_name": "Python 3"
    },
    "language_info": {
      "name": "python"
    }
  },
  "cells": [
    {
      "cell_type": "markdown",
      "metadata": {
        "id": "view-in-github",
        "colab_type": "text"
      },
      "source": [
        "<a href=\"https://colab.research.google.com/github/KaydeeJR/logistics-optimization-causal-inference/blob/Main/notebooks/gokada_feat_eng.ipynb\" target=\"_parent\"><img src=\"https://colab.research.google.com/assets/colab-badge.svg\" alt=\"Open In Colab\"/></a>"
      ]
    },
    {
      "cell_type": "code",
      "source": [
        "%cd /content/drive/MyDrive/Datasets/GokadaData/\n",
        "merged_data = \"merged_gokada_data.csv\""
      ],
      "metadata": {
        "colab": {
          "base_uri": "https://localhost:8080/"
        },
        "id": "l7ndmZ_MvWrM",
        "outputId": "73f9e782-0b74-43ae-c8f1-fd9d619f962c"
      },
      "execution_count": 1,
      "outputs": [
        {
          "output_type": "stream",
          "name": "stdout",
          "text": [
            "/content/drive/MyDrive/Datasets/GokadaData\n"
          ]
        }
      ]
    },
    {
      "cell_type": "code",
      "source": [
        "import pandas as pd\n",
        "\n",
        "df = pd.read_csv(merged_data)\n",
        "\n",
        "df['Trip Start Time']= pd.to_datetime(df['Trip Start Time'])\n",
        "df['Trip End Time'] = pd.to_datetime(df['Trip End Time'])\n",
        "merged_df = df.drop([\"id\",\"Unnamed: 0\"], axis=1)\n",
        "merged_df.info()"
      ],
      "metadata": {
        "colab": {
          "base_uri": "https://localhost:8080/"
        },
        "id": "IN2l0stRvwaq",
        "outputId": "f748c925-0de8-4ccb-dab6-c674842980ff"
      },
      "execution_count": 2,
      "outputs": [
        {
          "output_type": "stream",
          "name": "stdout",
          "text": [
            "<class 'pandas.core.frame.DataFrame'>\n",
            "RangeIndex: 1557740 entries, 0 to 1557739\n",
            "Data columns (total 12 columns):\n",
            " #   Column            Non-Null Count    Dtype         \n",
            "---  ------            --------------    -----         \n",
            " 0   Trip ID           1557740 non-null  int64         \n",
            " 1   Trip Origin       1557740 non-null  object        \n",
            " 2   Trip Destination  1557740 non-null  object        \n",
            " 3   Trip Start Time   1546886 non-null  datetime64[ns]\n",
            " 4   Trip End Time     1557740 non-null  datetime64[ns]\n",
            " 5   order_id          1557740 non-null  int64         \n",
            " 6   driver_id         1557740 non-null  int64         \n",
            " 7   driver_action     1557740 non-null  object        \n",
            " 8   lat               1557740 non-null  float64       \n",
            " 9   lng               1557740 non-null  float64       \n",
            " 10  created_at        0 non-null        float64       \n",
            " 11  updated_at        0 non-null        float64       \n",
            "dtypes: datetime64[ns](2), float64(4), int64(3), object(3)\n",
            "memory usage: 142.6+ MB\n"
          ]
        }
      ]
    },
    {
      "cell_type": "code",
      "source": [
        "merged_df.head()"
      ],
      "metadata": {
        "colab": {
          "base_uri": "https://localhost:8080/",
          "height": 478
        },
        "id": "mqgfDod7imdp",
        "outputId": "14849ef0-3317-4a27-dfee-06b9a2927c46"
      },
      "execution_count": 3,
      "outputs": [
        {
          "output_type": "execute_result",
          "data": {
            "text/plain": [
              "   Trip ID                          Trip Origin     Trip Destination  \\\n",
              "0  1259089  6.60183593434954,3.3526953469215393  6.4509943,3.5674834   \n",
              "1  1259089  6.60183593434954,3.3526953469215393  6.4509943,3.5674834   \n",
              "2  1259089  6.60183593434954,3.3526953469215393  6.4509943,3.5674834   \n",
              "3  1259089  6.60183593434954,3.3526953469215393  6.4509943,3.5674834   \n",
              "4  1259089  6.60183593434954,3.3526953469215393  6.4509943,3.5674834   \n",
              "\n",
              "      Trip Start Time       Trip End Time  order_id  driver_id driver_action  \\\n",
              "0 2021-11-13 13:58:29 2021-11-13 15:24:53    392001     243828      accepted   \n",
              "1 2021-11-13 13:58:29 2021-11-13 15:24:53    392001     243588      rejected   \n",
              "2 2021-11-13 13:58:29 2021-11-13 15:24:53    392001     243830      rejected   \n",
              "3 2021-11-13 13:58:29 2021-11-13 15:24:53    392001     243539      rejected   \n",
              "4 2021-11-13 13:58:29 2021-11-13 15:24:53    392001     171653      rejected   \n",
              "\n",
              "        lat       lng  created_at  updated_at  \n",
              "0  6.602207  3.270465         NaN         NaN  \n",
              "1  6.592097  3.287445         NaN         NaN  \n",
              "2  6.596133  3.281784         NaN         NaN  \n",
              "3  6.596142  3.280526         NaN         NaN  \n",
              "4  6.609232  3.288800         NaN         NaN  "
            ],
            "text/html": [
              "\n",
              "  <div id=\"df-e82514e0-4ddd-4650-8ce0-46b6aa4909d8\">\n",
              "    <div class=\"colab-df-container\">\n",
              "      <div>\n",
              "<style scoped>\n",
              "    .dataframe tbody tr th:only-of-type {\n",
              "        vertical-align: middle;\n",
              "    }\n",
              "\n",
              "    .dataframe tbody tr th {\n",
              "        vertical-align: top;\n",
              "    }\n",
              "\n",
              "    .dataframe thead th {\n",
              "        text-align: right;\n",
              "    }\n",
              "</style>\n",
              "<table border=\"1\" class=\"dataframe\">\n",
              "  <thead>\n",
              "    <tr style=\"text-align: right;\">\n",
              "      <th></th>\n",
              "      <th>Trip ID</th>\n",
              "      <th>Trip Origin</th>\n",
              "      <th>Trip Destination</th>\n",
              "      <th>Trip Start Time</th>\n",
              "      <th>Trip End Time</th>\n",
              "      <th>order_id</th>\n",
              "      <th>driver_id</th>\n",
              "      <th>driver_action</th>\n",
              "      <th>lat</th>\n",
              "      <th>lng</th>\n",
              "      <th>created_at</th>\n",
              "      <th>updated_at</th>\n",
              "    </tr>\n",
              "  </thead>\n",
              "  <tbody>\n",
              "    <tr>\n",
              "      <th>0</th>\n",
              "      <td>1259089</td>\n",
              "      <td>6.60183593434954,3.3526953469215393</td>\n",
              "      <td>6.4509943,3.5674834</td>\n",
              "      <td>2021-11-13 13:58:29</td>\n",
              "      <td>2021-11-13 15:24:53</td>\n",
              "      <td>392001</td>\n",
              "      <td>243828</td>\n",
              "      <td>accepted</td>\n",
              "      <td>6.602207</td>\n",
              "      <td>3.270465</td>\n",
              "      <td>NaN</td>\n",
              "      <td>NaN</td>\n",
              "    </tr>\n",
              "    <tr>\n",
              "      <th>1</th>\n",
              "      <td>1259089</td>\n",
              "      <td>6.60183593434954,3.3526953469215393</td>\n",
              "      <td>6.4509943,3.5674834</td>\n",
              "      <td>2021-11-13 13:58:29</td>\n",
              "      <td>2021-11-13 15:24:53</td>\n",
              "      <td>392001</td>\n",
              "      <td>243588</td>\n",
              "      <td>rejected</td>\n",
              "      <td>6.592097</td>\n",
              "      <td>3.287445</td>\n",
              "      <td>NaN</td>\n",
              "      <td>NaN</td>\n",
              "    </tr>\n",
              "    <tr>\n",
              "      <th>2</th>\n",
              "      <td>1259089</td>\n",
              "      <td>6.60183593434954,3.3526953469215393</td>\n",
              "      <td>6.4509943,3.5674834</td>\n",
              "      <td>2021-11-13 13:58:29</td>\n",
              "      <td>2021-11-13 15:24:53</td>\n",
              "      <td>392001</td>\n",
              "      <td>243830</td>\n",
              "      <td>rejected</td>\n",
              "      <td>6.596133</td>\n",
              "      <td>3.281784</td>\n",
              "      <td>NaN</td>\n",
              "      <td>NaN</td>\n",
              "    </tr>\n",
              "    <tr>\n",
              "      <th>3</th>\n",
              "      <td>1259089</td>\n",
              "      <td>6.60183593434954,3.3526953469215393</td>\n",
              "      <td>6.4509943,3.5674834</td>\n",
              "      <td>2021-11-13 13:58:29</td>\n",
              "      <td>2021-11-13 15:24:53</td>\n",
              "      <td>392001</td>\n",
              "      <td>243539</td>\n",
              "      <td>rejected</td>\n",
              "      <td>6.596142</td>\n",
              "      <td>3.280526</td>\n",
              "      <td>NaN</td>\n",
              "      <td>NaN</td>\n",
              "    </tr>\n",
              "    <tr>\n",
              "      <th>4</th>\n",
              "      <td>1259089</td>\n",
              "      <td>6.60183593434954,3.3526953469215393</td>\n",
              "      <td>6.4509943,3.5674834</td>\n",
              "      <td>2021-11-13 13:58:29</td>\n",
              "      <td>2021-11-13 15:24:53</td>\n",
              "      <td>392001</td>\n",
              "      <td>171653</td>\n",
              "      <td>rejected</td>\n",
              "      <td>6.609232</td>\n",
              "      <td>3.288800</td>\n",
              "      <td>NaN</td>\n",
              "      <td>NaN</td>\n",
              "    </tr>\n",
              "  </tbody>\n",
              "</table>\n",
              "</div>\n",
              "      <button class=\"colab-df-convert\" onclick=\"convertToInteractive('df-e82514e0-4ddd-4650-8ce0-46b6aa4909d8')\"\n",
              "              title=\"Convert this dataframe to an interactive table.\"\n",
              "              style=\"display:none;\">\n",
              "        \n",
              "  <svg xmlns=\"http://www.w3.org/2000/svg\" height=\"24px\"viewBox=\"0 0 24 24\"\n",
              "       width=\"24px\">\n",
              "    <path d=\"M0 0h24v24H0V0z\" fill=\"none\"/>\n",
              "    <path d=\"M18.56 5.44l.94 2.06.94-2.06 2.06-.94-2.06-.94-.94-2.06-.94 2.06-2.06.94zm-11 1L8.5 8.5l.94-2.06 2.06-.94-2.06-.94L8.5 2.5l-.94 2.06-2.06.94zm10 10l.94 2.06.94-2.06 2.06-.94-2.06-.94-.94-2.06-.94 2.06-2.06.94z\"/><path d=\"M17.41 7.96l-1.37-1.37c-.4-.4-.92-.59-1.43-.59-.52 0-1.04.2-1.43.59L10.3 9.45l-7.72 7.72c-.78.78-.78 2.05 0 2.83L4 21.41c.39.39.9.59 1.41.59.51 0 1.02-.2 1.41-.59l7.78-7.78 2.81-2.81c.8-.78.8-2.07 0-2.86zM5.41 20L4 18.59l7.72-7.72 1.47 1.35L5.41 20z\"/>\n",
              "  </svg>\n",
              "      </button>\n",
              "      \n",
              "  <style>\n",
              "    .colab-df-container {\n",
              "      display:flex;\n",
              "      flex-wrap:wrap;\n",
              "      gap: 12px;\n",
              "    }\n",
              "\n",
              "    .colab-df-convert {\n",
              "      background-color: #E8F0FE;\n",
              "      border: none;\n",
              "      border-radius: 50%;\n",
              "      cursor: pointer;\n",
              "      display: none;\n",
              "      fill: #1967D2;\n",
              "      height: 32px;\n",
              "      padding: 0 0 0 0;\n",
              "      width: 32px;\n",
              "    }\n",
              "\n",
              "    .colab-df-convert:hover {\n",
              "      background-color: #E2EBFA;\n",
              "      box-shadow: 0px 1px 2px rgba(60, 64, 67, 0.3), 0px 1px 3px 1px rgba(60, 64, 67, 0.15);\n",
              "      fill: #174EA6;\n",
              "    }\n",
              "\n",
              "    [theme=dark] .colab-df-convert {\n",
              "      background-color: #3B4455;\n",
              "      fill: #D2E3FC;\n",
              "    }\n",
              "\n",
              "    [theme=dark] .colab-df-convert:hover {\n",
              "      background-color: #434B5C;\n",
              "      box-shadow: 0px 1px 3px 1px rgba(0, 0, 0, 0.15);\n",
              "      filter: drop-shadow(0px 1px 2px rgba(0, 0, 0, 0.3));\n",
              "      fill: #FFFFFF;\n",
              "    }\n",
              "  </style>\n",
              "\n",
              "      <script>\n",
              "        const buttonEl =\n",
              "          document.querySelector('#df-e82514e0-4ddd-4650-8ce0-46b6aa4909d8 button.colab-df-convert');\n",
              "        buttonEl.style.display =\n",
              "          google.colab.kernel.accessAllowed ? 'block' : 'none';\n",
              "\n",
              "        async function convertToInteractive(key) {\n",
              "          const element = document.querySelector('#df-e82514e0-4ddd-4650-8ce0-46b6aa4909d8');\n",
              "          const dataTable =\n",
              "            await google.colab.kernel.invokeFunction('convertToInteractive',\n",
              "                                                     [key], {});\n",
              "          if (!dataTable) return;\n",
              "\n",
              "          const docLinkHtml = 'Like what you see? Visit the ' +\n",
              "            '<a target=\"_blank\" href=https://colab.research.google.com/notebooks/data_table.ipynb>data table notebook</a>'\n",
              "            + ' to learn more about interactive tables.';\n",
              "          element.innerHTML = '';\n",
              "          dataTable['output_type'] = 'display_data';\n",
              "          await google.colab.output.renderOutput(dataTable, element);\n",
              "          const docLink = document.createElement('div');\n",
              "          docLink.innerHTML = docLinkHtml;\n",
              "          element.appendChild(docLink);\n",
              "        }\n",
              "      </script>\n",
              "    </div>\n",
              "  </div>\n",
              "  "
            ]
          },
          "metadata": {},
          "execution_count": 3
        }
      ]
    },
    {
      "cell_type": "markdown",
      "source": [
        "# Data preparation"
      ],
      "metadata": {
        "id": "PIjnYZ1unWiu"
      }
    },
    {
      "cell_type": "markdown",
      "source": [
        "## Feature engineering"
      ],
      "metadata": {
        "id": "hSQQjbl2ncn6"
      }
    },
    {
      "cell_type": "code",
      "source": [
        "# instantiate class for data preparation\n",
        "from prepare_data import DataPreparation\n",
        "prep_class = DataPreparation()"
      ],
      "metadata": {
        "id": "pTzZjFBSxyXo"
      },
      "execution_count": 4,
      "outputs": []
    },
    {
      "cell_type": "code",
      "execution_count": 5,
      "metadata": {
        "id": "6yQbTnmWmloY"
      },
      "outputs": [],
      "source": [
        "# adding hours column - Trip Start Time has some missing values\n",
        "merged_df['start_hour'] = merged_df['Trip Start Time'].apply(lambda row: prep_class.get_hour_of_day(row))\n",
        "merged_df['end_hour'] = merged_df['Trip End Time'].apply(lambda row: prep_class.get_hour_of_day(row))"
      ]
    },
    {
      "cell_type": "code",
      "source": [
        "# adding distance travelled column \n",
        "merged_df['trip_distance_km'] = merged_df[['Trip Origin','Trip Destination']].apply(lambda row: prep_class.get_trip_distance(row[0], row[1]),axis=1)"
      ],
      "metadata": {
        "id": "8uaAnVOn3wWw"
      },
      "execution_count": 6,
      "outputs": []
    },
    {
      "cell_type": "code",
      "source": [
        "# adding time taken to deliver order\n",
        "merged_df['trip_time'] = merged_df[['Trip Start Time','Trip End Time']].apply(lambda row: prep_class.get_trip_duration(row[0], row[1]),axis=1)"
      ],
      "metadata": {
        "id": "aTPczyCHk_2d"
      },
      "execution_count": 7,
      "outputs": []
    },
    {
      "cell_type": "code",
      "source": [
        "!pip install meteostat\n",
        "from meteostat import Point, Daily"
      ],
      "metadata": {
        "id": "THSNWwJPr4B_"
      },
      "execution_count": null,
      "outputs": []
    },
    {
      "cell_type": "code",
      "source": [
        "y_min = merged_df['lat'].min()\n",
        "y_max = merged_df['lat'].max()\n",
        "x_min = merged_df['lng'].min()\n",
        "x_max = merged_df['lng'].max()\n",
        "# y = latitude, x = longitude"
      ],
      "metadata": {
        "id": "4AjDJBOq3MLM"
      },
      "execution_count": 9,
      "outputs": []
    },
    {
      "cell_type": "code",
      "source": [
        "from datetime import datetime\n",
        "# Set time period i.e. from November, 2021 to May, 2022 : 187 days\n",
        "start_date = datetime(2021, 11, 13)\n",
        "end_date = datetime (2022, 5, 19)\n",
        "\n",
        "# using map bounds as coordinates i.e. y_min, y_max, x_min, x_max\n",
        "# y = latitude, x = longitude\n",
        "avg_lat = (y_min+y_max)/2\n",
        "avg_long = (x_min+x_max)/2\n",
        "altitude = 41 # from google\n",
        "\n",
        "# using nearest station instead of coordinates\n",
        "# from : https://meteostat.net/en/station/65201?t=2022-10-09/2022-10-16\n",
        "\n",
        "# Get daily data\n",
        "data = Daily(65201, start_date, end_date)\n",
        "data = data.fetch() # returns a dataframe\n",
        "\n",
        "# get dates from datetime\n",
        "merged_df['Start Date'] = merged_df['Trip Start Time'].apply(lambda x: x.date())\n",
        "\n",
        "rainy_days = data['prcp'].dropna().index # DatetimeIndex object\n",
        "\n",
        "# convert datetimeindex to list of datetime objects\n",
        "rainy_list = list(rainy_days.to_pydatetime())\n",
        "rainy_dates_list = [d.date() for d in rainy_list]"
      ],
      "metadata": {
        "id": "iJYlKQ3UuNc8"
      },
      "execution_count": 10,
      "outputs": []
    },
    {
      "cell_type": "code",
      "source": [
        "merged_df['rainy'] = merged_df['Start Date'].isin(rainy_dates_list)"
      ],
      "metadata": {
        "id": "qbcym8Fatimk"
      },
      "execution_count": 11,
      "outputs": []
    },
    {
      "cell_type": "code",
      "source": [
        "!pip install holidays\n",
        "import holidays"
      ],
      "metadata": {
        "id": "xQP3Ylacp2jG"
      },
      "execution_count": null,
      "outputs": []
    },
    {
      "cell_type": "code",
      "source": [
        "# set holidays\n",
        "nigeria_holidays = holidays.Nigeria\n",
        "holiday_dates = []\n",
        "for  k, v in nigeria_holidays(years = 2021).items():\n",
        "    holiday_date = datetime(k.year, k.month, k.day)\n",
        "    if(start_date<holiday_date<end_date):\n",
        "        holiday_dates.append(k)\n",
        "# 2022\n",
        "for  k, v in nigeria_holidays(years = 2022).items():\n",
        "    holiday_date = datetime(k.year, k.month, k.day)\n",
        "    if(start_date<holiday_date<end_date):\n",
        "        holiday_dates.append(k)"
      ],
      "metadata": {
        "id": "GlUEHB_tqu3A"
      },
      "execution_count": 13,
      "outputs": []
    },
    {
      "cell_type": "code",
      "source": [
        "# converting to dataframe\n",
        "merged_df['holiday'] = merged_df['Start Date'].isin(holiday_dates)\n",
        "merged_df['holiday'].value_counts()"
      ],
      "metadata": {
        "colab": {
          "base_uri": "https://localhost:8080/"
        },
        "id": "nhWWn3wirtdE",
        "outputId": "41ce19e0-d6ad-4e02-cde9-a73a24013c02"
      },
      "execution_count": 40,
      "outputs": [
        {
          "output_type": "execute_result",
          "data": {
            "text/plain": [
              "False    1557740\n",
              "Name: holiday, dtype: int64"
            ]
          },
          "metadata": {},
          "execution_count": 40
        }
      ]
    },
    {
      "cell_type": "code",
      "source": [
        "from datetime import timedelta\n",
        "\n",
        "weekend_date = []\n",
        "def daterange(date1, date2):\n",
        "    for n in range(int ((date2 - date1).days)+1):\n",
        "        yield date1 + timedelta(n)\n",
        "\n",
        "weekends = [5,6] # 0 based index for days of week. 5 -Saturday, 6 = Sunday\n",
        "no_of_weekends = 0\n",
        "for dt in daterange(start_date, end_date):\n",
        "    if dt.weekday() in weekends:                \n",
        "        weekend_date.append(dt.strftime(\"%Y-%m-%d\"))"
      ],
      "metadata": {
        "id": "QvMwLTy336_-"
      },
      "execution_count": 43,
      "outputs": []
    },
    {
      "cell_type": "code",
      "source": [
        "# convert to datetime\n",
        "weekend_dates = [datetime.strptime(date_string, \"%Y-%m-%d\") for date_string in weekend_date]\n",
        "weekend_dates_list = [d.date() for d in weekend_dates]"
      ],
      "metadata": {
        "id": "HJVYUDOo5ZkL"
      },
      "execution_count": 62,
      "outputs": []
    },
    {
      "cell_type": "code",
      "source": [
        "merged_df['weekend'] = merged_df['Start Date'].isin(weekend_dates_list)\n",
        "merged_df['weekend'].value_counts()"
      ],
      "metadata": {
        "colab": {
          "base_uri": "https://localhost:8080/"
        },
        "id": "0c-pxWtE3ml0",
        "outputId": "b01a7e7e-aa96-4ce8-fe57-b1d933312609"
      },
      "execution_count": 64,
      "outputs": [
        {
          "output_type": "execute_result",
          "data": {
            "text/plain": [
              "False    1291862\n",
              "True      265878\n",
              "Name: weekend, dtype: int64"
            ]
          },
          "metadata": {},
          "execution_count": 64
        }
      ]
    },
    {
      "cell_type": "code",
      "source": [
        "# removing holiday column because all values are false\n",
        "# removing start date column because the values were only used for calculating \n",
        "# weekend, rainy days and holidays\n",
        "\n",
        "merged_df.drop(['Start Date','holiday'], axis=1).info()"
      ],
      "metadata": {
        "colab": {
          "base_uri": "https://localhost:8080/"
        },
        "id": "B-TkRstu-HLC",
        "outputId": "892b2e70-7cea-4fc5-b989-8fb7f0a7cbe7"
      },
      "execution_count": 66,
      "outputs": [
        {
          "output_type": "stream",
          "name": "stdout",
          "text": [
            "<class 'pandas.core.frame.DataFrame'>\n",
            "RangeIndex: 1557740 entries, 0 to 1557739\n",
            "Data columns (total 18 columns):\n",
            " #   Column            Non-Null Count    Dtype          \n",
            "---  ------            --------------    -----          \n",
            " 0   Trip ID           1557740 non-null  int64          \n",
            " 1   Trip Origin       1557740 non-null  object         \n",
            " 2   Trip Destination  1557740 non-null  object         \n",
            " 3   Trip Start Time   1546886 non-null  datetime64[ns] \n",
            " 4   Trip End Time     1557740 non-null  datetime64[ns] \n",
            " 5   order_id          1557740 non-null  int64          \n",
            " 6   driver_id         1557740 non-null  int64          \n",
            " 7   driver_action     1557740 non-null  object         \n",
            " 8   lat               1557740 non-null  float64        \n",
            " 9   lng               1557740 non-null  float64        \n",
            " 10  created_at        0 non-null        float64        \n",
            " 11  updated_at        0 non-null        float64        \n",
            " 12  start_hour        1546886 non-null  float64        \n",
            " 13  end_hour          1557740 non-null  int64          \n",
            " 14  trip_distance_km  1557740 non-null  float64        \n",
            " 15  trip_time         1546886 non-null  timedelta64[ns]\n",
            " 16  rainy             1557740 non-null  bool           \n",
            " 17  weekend           1557740 non-null  bool           \n",
            "dtypes: bool(2), datetime64[ns](2), float64(6), int64(4), object(3), timedelta64[ns](1)\n",
            "memory usage: 193.1+ MB\n"
          ]
        }
      ]
    },
    {
      "cell_type": "code",
      "source": [
        "# saving as csv file\n",
        "merged_df.to_csv('gokada_feat_eng.csv')"
      ],
      "metadata": {
        "id": "GleYOkDu_U7S"
      },
      "execution_count": 67,
      "outputs": []
    }
  ]
}